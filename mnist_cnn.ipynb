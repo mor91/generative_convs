{
 "cells": [
  {
   "cell_type": "code",
   "execution_count": 1,
   "metadata": {
    "collapsed": false
   },
   "outputs": [
    {
     "name": "stderr",
     "output_type": "stream",
     "text": [
      "Using TensorFlow backend.\n"
     ]
    }
   ],
   "source": [
    "from __future__ import print_function\n",
    "import numpy as np\n",
    "\n",
    "from keras.datasets import mnist\n",
    "from keras.models import Sequential\n",
    "from keras.layers import Dense, Dropout, Activation, Flatten\n",
    "from keras.layers import Convolution2D, MaxPooling2D\n",
    "from keras.utils import np_utils\n",
    "from keras import backend as K"
   ]
  },
  {
   "cell_type": "code",
   "execution_count": 5,
   "metadata": {
    "collapsed": false
   },
   "outputs": [
    {
     "name": "stdout",
     "output_type": "stream",
     "text": [
      "X_train shape: (60000, 28, 28, 1)\n",
      "60000 train samples\n",
      "10000 test samples\n"
     ]
    }
   ],
   "source": [
    "# the data, shuffled and split between train and test sets\n",
    "(X_train, y_train), (X_test, y_test) = mnist.load_data()\n",
    "\n",
    "X_train = X_train.reshape(X_train.shape[0], img_rows, img_cols, 1)\n",
    "X_test = X_test.reshape(X_test.shape[0], img_rows, img_cols, 1)\n",
    "input_shape = (img_rows, img_cols, 1)\n",
    "\n",
    "X_train = X_train.astype('float32')\n",
    "X_test = X_test.astype('float32')\n",
    "X_train /= 255\n",
    "X_test /= 255\n",
    "print('X_train shape:', X_train.shape)\n",
    "print(X_train.shape[0], 'train samples')\n",
    "print(X_test.shape[0], 'test samples')\n",
    "\n",
    "# convert class vectors to binary class matrices\n",
    "Y_train = np_utils.to_categorical(y_train, nb_classes)\n",
    "Y_test = np_utils.to_categorical(y_test, nb_classes)"
   ]
  },
  {
   "cell_type": "markdown",
   "metadata": {},
   "source": [
    "### Linear test"
   ]
  },
  {
   "cell_type": "code",
   "execution_count": 9,
   "metadata": {
    "collapsed": false
   },
   "outputs": [
    {
     "name": "stdout",
     "output_type": "stream",
     "text": [
      "Train on 60000 samples, validate on 10000 samples\n",
      "Epoch 1/12\n",
      "60000/60000 [==============================] - 1s - loss: 0.9871 - acc: 0.7692 - val_loss: 0.5408 - val_acc: 0.8785\n",
      "Epoch 2/12\n",
      "60000/60000 [==============================] - 1s - loss: 0.4738 - acc: 0.8794 - val_loss: 0.3942 - val_acc: 0.9000\n",
      "Epoch 3/12\n",
      "60000/60000 [==============================] - 1s - loss: 0.3886 - acc: 0.8953 - val_loss: 0.3489 - val_acc: 0.9075\n",
      "Epoch 4/12\n",
      "60000/60000 [==============================] - 1s - loss: 0.3547 - acc: 0.9030 - val_loss: 0.3270 - val_acc: 0.9111\n",
      "Epoch 5/12\n",
      "60000/60000 [==============================] - 1s - loss: 0.3358 - acc: 0.9072 - val_loss: 0.3145 - val_acc: 0.9128\n",
      "Epoch 6/12\n",
      "60000/60000 [==============================] - 1s - loss: 0.3237 - acc: 0.9104 - val_loss: 0.3057 - val_acc: 0.9154\n",
      "Epoch 7/12\n",
      "60000/60000 [==============================] - 1s - loss: 0.3149 - acc: 0.9128 - val_loss: 0.2990 - val_acc: 0.9165\n",
      "Epoch 8/12\n",
      "60000/60000 [==============================] - 0s - loss: 0.3080 - acc: 0.9141 - val_loss: 0.2947 - val_acc: 0.9183\n",
      "Epoch 9/12\n",
      "60000/60000 [==============================] - 1s - loss: 0.3028 - acc: 0.9157 - val_loss: 0.2905 - val_acc: 0.9177\n",
      "Epoch 10/12\n",
      "60000/60000 [==============================] - 0s - loss: 0.2982 - acc: 0.9166 - val_loss: 0.2884 - val_acc: 0.9188\n",
      "Epoch 11/12\n",
      "60000/60000 [==============================] - 1s - loss: 0.2946 - acc: 0.9180 - val_loss: 0.2850 - val_acc: 0.9207\n",
      "Epoch 12/12\n",
      "60000/60000 [==============================] - 1s - loss: 0.2912 - acc: 0.9186 - val_loss: 0.2829 - val_acc: 0.9213\n",
      "Test score: 0.282908227575\n",
      "Test accuracy: 0.9213\n"
     ]
    }
   ],
   "source": [
    "batch_size = 128\n",
    "nb_classes = 10\n",
    "nb_epoch = 12\n",
    "\n",
    "model = Sequential()\n",
    "\n",
    "model.add(Flatten(input_shape=input_shape))\n",
    "model.add(Dense(nb_classes))\n",
    "model.add(Activation('softmax'))\n",
    "\n",
    "model.compile(loss='categorical_crossentropy',\n",
    "              optimizer='adadelta',\n",
    "              metrics=['accuracy'])\n",
    "\n",
    "model.fit(X_train, Y_train, batch_size=batch_size, nb_epoch=nb_epoch,\n",
    "          verbose=1, validation_data=(X_test, Y_test))\n",
    "score = model.evaluate(X_test, Y_test, verbose=0)\n",
    "print('Test score:', score[0])\n",
    "print('Test accuracy:', score[1])"
   ]
  },
  {
   "cell_type": "markdown",
   "metadata": {},
   "source": [
    "### Flat test"
   ]
  },
  {
   "cell_type": "code",
   "execution_count": 8,
   "metadata": {
    "collapsed": false
   },
   "outputs": [
    {
     "name": "stdout",
     "output_type": "stream",
     "text": [
      "Train on 60000 samples, validate on 10000 samples\n",
      "Epoch 1/12\n",
      "60000/60000 [==============================] - 2s - loss: 0.7090 - acc: 0.7908 - val_loss: 0.3124 - val_acc: 0.9161\n",
      "Epoch 2/12\n",
      "60000/60000 [==============================] - 1s - loss: 0.3726 - acc: 0.8936 - val_loss: 0.2467 - val_acc: 0.9321\n",
      "Epoch 3/12\n",
      "60000/60000 [==============================] - 1s - loss: 0.3129 - acc: 0.9091 - val_loss: 0.2107 - val_acc: 0.9402\n",
      "Epoch 4/12\n",
      "60000/60000 [==============================] - 1s - loss: 0.2779 - acc: 0.9214 - val_loss: 0.1912 - val_acc: 0.9448\n",
      "Epoch 5/12\n",
      "60000/60000 [==============================] - 1s - loss: 0.2523 - acc: 0.9287 - val_loss: 0.1743 - val_acc: 0.9493\n",
      "Epoch 6/12\n",
      "60000/60000 [==============================] - 1s - loss: 0.2350 - acc: 0.9328 - val_loss: 0.1621 - val_acc: 0.9515\n",
      "Epoch 7/12\n",
      "60000/60000 [==============================] - 2s - loss: 0.2217 - acc: 0.9366 - val_loss: 0.1527 - val_acc: 0.9540\n",
      "Epoch 8/12\n",
      "60000/60000 [==============================] - 2s - loss: 0.2110 - acc: 0.9389 - val_loss: 0.1452 - val_acc: 0.9570\n",
      "Epoch 9/12\n",
      "60000/60000 [==============================] - 2s - loss: 0.2009 - acc: 0.9422 - val_loss: 0.1397 - val_acc: 0.9586\n",
      "Epoch 10/12\n",
      "60000/60000 [==============================] - 2s - loss: 0.1915 - acc: 0.9444 - val_loss: 0.1328 - val_acc: 0.9608\n",
      "Epoch 11/12\n",
      "60000/60000 [==============================] - 2s - loss: 0.1853 - acc: 0.9458 - val_loss: 0.1281 - val_acc: 0.9620\n",
      "Epoch 12/12\n",
      "60000/60000 [==============================] - 2s - loss: 0.1780 - acc: 0.9483 - val_loss: 0.1231 - val_acc: 0.9624\n",
      "Test score: 0.123144126676\n",
      "Test accuracy: 0.9624\n"
     ]
    }
   ],
   "source": [
    "batch_size = 128\n",
    "nb_classes = 10\n",
    "nb_epoch = 12\n",
    "\n",
    "model = Sequential()\n",
    "\n",
    "model.add(Flatten(input_shape=input_shape))\n",
    "model.add(Dense(128))\n",
    "model.add(Activation('relu'))\n",
    "model.add(Dropout(0.5))\n",
    "model.add(Dense(nb_classes))\n",
    "model.add(Activation('softmax'))\n",
    "\n",
    "model.compile(loss='categorical_crossentropy',\n",
    "              optimizer='adadelta',\n",
    "              metrics=['accuracy'])\n",
    "\n",
    "model.fit(X_train, Y_train, batch_size=batch_size, nb_epoch=nb_epoch,\n",
    "          verbose=1, validation_data=(X_test, Y_test))\n",
    "score = model.evaluate(X_test, Y_test, verbose=0)\n",
    "print('Test score:', score[0])\n",
    "print('Test accuracy:', score[1])"
   ]
  },
  {
   "cell_type": "markdown",
   "metadata": {},
   "source": [
    "### Conv test"
   ]
  },
  {
   "cell_type": "code",
   "execution_count": 10,
   "metadata": {
    "collapsed": false
   },
   "outputs": [
    {
     "name": "stdout",
     "output_type": "stream",
     "text": [
      "Train on 60000 samples, validate on 10000 samples\n",
      "Epoch 1/12\n",
      "60000/60000 [==============================] - 91s - loss: 0.3736 - acc: 0.8861 - val_loss: 0.0884 - val_acc: 0.9721\n",
      "Epoch 2/12\n",
      "60000/60000 [==============================] - 88s - loss: 0.1392 - acc: 0.9595 - val_loss: 0.0616 - val_acc: 0.9793\n",
      "Epoch 3/12\n",
      "60000/60000 [==============================] - 86s - loss: 0.1048 - acc: 0.9687 - val_loss: 0.0501 - val_acc: 0.9836\n",
      "Epoch 4/12\n",
      "60000/60000 [==============================] - 89s - loss: 0.0889 - acc: 0.9730 - val_loss: 0.0449 - val_acc: 0.9858\n",
      "Epoch 5/12\n",
      "60000/60000 [==============================] - 87s - loss: 0.0763 - acc: 0.9782 - val_loss: 0.0404 - val_acc: 0.9872\n",
      "Epoch 6/12\n",
      "60000/60000 [==============================] - 91s - loss: 0.0706 - acc: 0.9793 - val_loss: 0.0400 - val_acc: 0.9864\n",
      "Epoch 7/12\n",
      "60000/60000 [==============================] - 88s - loss: 0.0636 - acc: 0.9814 - val_loss: 0.0351 - val_acc: 0.9877\n",
      "Epoch 8/12\n",
      "60000/60000 [==============================] - 88s - loss: 0.0605 - acc: 0.9822 - val_loss: 0.0345 - val_acc: 0.9885\n",
      "Epoch 9/12\n",
      "60000/60000 [==============================] - 86s - loss: 0.0551 - acc: 0.9837 - val_loss: 0.0326 - val_acc: 0.9888\n",
      "Epoch 10/12\n",
      "60000/60000 [==============================] - 86s - loss: 0.0526 - acc: 0.9842 - val_loss: 0.0307 - val_acc: 0.9897\n",
      "Epoch 11/12\n",
      "60000/60000 [==============================] - 85s - loss: 0.0501 - acc: 0.9847 - val_loss: 0.0331 - val_acc: 0.9892\n",
      "Epoch 12/12\n",
      "60000/60000 [==============================] - 86s - loss: 0.0497 - acc: 0.9857 - val_loss: 0.0326 - val_acc: 0.9893\n",
      "Test score: 0.0326024564912\n",
      "Test accuracy: 0.9893\n"
     ]
    }
   ],
   "source": [
    "batch_size = 128\n",
    "nb_classes = 10\n",
    "nb_epoch = 12\n",
    "\n",
    "# input image dimensions\n",
    "img_rows, img_cols = 28, 28\n",
    "# number of convolutional filters to use\n",
    "nb_filters = 32\n",
    "# size of pooling area for max pooling\n",
    "pool_size = (2, 2)\n",
    "# convolution kernel size\n",
    "kernel_size = (3, 3)\n",
    "\n",
    "model = Sequential()\n",
    "\n",
    "model.add(Convolution2D(nb_filters, kernel_size[0], kernel_size[1],\n",
    "                        border_mode='valid',\n",
    "                        input_shape=input_shape))\n",
    "model.add(Activation('relu'))\n",
    "model.add(Convolution2D(nb_filters, kernel_size[0], kernel_size[1]))\n",
    "model.add(Activation('relu'))\n",
    "model.add(MaxPooling2D(pool_size=pool_size))\n",
    "model.add(Dropout(0.25))\n",
    "\n",
    "model.add(Flatten())\n",
    "model.add(Dense(128))\n",
    "model.add(Activation('relu'))\n",
    "model.add(Dropout(0.5))\n",
    "model.add(Dense(nb_classes))\n",
    "model.add(Activation('softmax'))\n",
    "\n",
    "model.compile(loss='categorical_crossentropy',\n",
    "              optimizer='adadelta',\n",
    "              metrics=['accuracy'])\n",
    "\n",
    "model.fit(X_train, Y_train, batch_size=batch_size, nb_epoch=nb_epoch,\n",
    "          verbose=1, validation_data=(X_test, Y_test))\n",
    "score = model.evaluate(X_test, Y_test, verbose=0)\n",
    "print('Test score:', score[0])\n",
    "print('Test accuracy:', score[1])"
   ]
  },
  {
   "cell_type": "code",
   "execution_count": null,
   "metadata": {
    "collapsed": false
   },
   "outputs": [],
   "source": []
  },
  {
   "cell_type": "code",
   "execution_count": null,
   "metadata": {
    "collapsed": true
   },
   "outputs": [],
   "source": []
  }
 ],
 "metadata": {
  "kernelspec": {
   "display_name": "Python 2",
   "language": "python",
   "name": "python2"
  },
  "language_info": {
   "codemirror_mode": {
    "name": "ipython",
    "version": 2
   },
   "file_extension": ".py",
   "mimetype": "text/x-python",
   "name": "python",
   "nbconvert_exporter": "python",
   "pygments_lexer": "ipython2",
   "version": "2.7.12"
  }
 },
 "nbformat": 4,
 "nbformat_minor": 0
}
